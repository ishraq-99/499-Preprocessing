{
 "cells": [
  {
   "cell_type": "code",
   "execution_count": 63,
   "id": "dec8ed6a-ea59-4583-b65f-175162257087",
   "metadata": {},
   "outputs": [],
   "source": [
    "import pandas as pd\n",
    "import numpy as np\n",
    "import matplotlib.pyplot as plt  # Import Matplotlib\n",
    "import seaborn as sns  # Import Seaborn"
   ]
  },
  {
   "cell_type": "code",
   "execution_count": 64,
   "id": "fb90cc18-0988-41f5-b471-89b70aa895a7",
   "metadata": {},
   "outputs": [],
   "source": [
    "gossipcop_fake_df = pd.read_csv('dataset/gossipcop_fake.csv')\n",
    "gossipcop_real_df = pd.read_csv('dataset/gossipcop_real.csv')\n",
    "\n",
    "politifact_fake_df = pd.read_csv('dataset/politifact_fake.csv')\n",
    "politifact_real_df = pd.read_csv('dataset/politifact_real.csv')"
   ]
  },
  {
   "cell_type": "code",
   "execution_count": 65,
   "id": "fa9a98c4-cb71-4c6c-8be6-c494e3ba2481",
   "metadata": {},
   "outputs": [],
   "source": [
    "fake_df = pd.concat([gossipcop_fake_df, politifact_fake_df])\n",
    "true_df = pd.concat([gossipcop_real_df, politifact_real_df])\n",
    "\n",
    "fake_df.index = [x for x in range(len(gossipcop_fake_df) + len(politifact_fake_df))]\n",
    "true_df.index = [x for x in range(len(gossipcop_real_df) + len(politifact_real_df))]"
   ]
  },
  {
   "cell_type": "code",
   "execution_count": 66,
   "id": "5d7ce1e6",
   "metadata": {},
   "outputs": [
    {
     "data": {
      "text/html": [
       "<div>\n",
       "<style scoped>\n",
       "    .dataframe tbody tr th:only-of-type {\n",
       "        vertical-align: middle;\n",
       "    }\n",
       "\n",
       "    .dataframe tbody tr th {\n",
       "        vertical-align: top;\n",
       "    }\n",
       "\n",
       "    .dataframe thead th {\n",
       "        text-align: right;\n",
       "    }\n",
       "</style>\n",
       "<table border=\"1\" class=\"dataframe\">\n",
       "  <thead>\n",
       "    <tr style=\"text-align: right;\">\n",
       "      <th></th>\n",
       "      <th>id</th>\n",
       "      <th>news_url</th>\n",
       "      <th>title</th>\n",
       "      <th>tweet_ids</th>\n",
       "      <th>true</th>\n",
       "    </tr>\n",
       "  </thead>\n",
       "  <tbody>\n",
       "    <tr>\n",
       "      <th>0</th>\n",
       "      <td>gossipcop-882573</td>\n",
       "      <td>https://www.brides.com/story/teen-mom-jenelle-...</td>\n",
       "      <td>Teen Mom Star Jenelle Evans' Wedding Dress Is ...</td>\n",
       "      <td>912371411146149888\\t912371528343408641\\t912372...</td>\n",
       "      <td>1</td>\n",
       "    </tr>\n",
       "    <tr>\n",
       "      <th>1</th>\n",
       "      <td>gossipcop-875924</td>\n",
       "      <td>https://www.dailymail.co.uk/tvshowbiz/article-...</td>\n",
       "      <td>Kylie Jenner refusing to discuss Tyga on Life ...</td>\n",
       "      <td>901989917546426369\\t901989992074969089\\t901990...</td>\n",
       "      <td>1</td>\n",
       "    </tr>\n",
       "    <tr>\n",
       "      <th>2</th>\n",
       "      <td>gossipcop-894416</td>\n",
       "      <td>https://en.wikipedia.org/wiki/Quinn_Perkins</td>\n",
       "      <td>Quinn Perkins</td>\n",
       "      <td>931263637246881792\\t931265332022579201\\t931265...</td>\n",
       "      <td>1</td>\n",
       "    </tr>\n",
       "    <tr>\n",
       "      <th>3</th>\n",
       "      <td>gossipcop-857248</td>\n",
       "      <td>https://www.refinery29.com/en-us/2018/03/19192...</td>\n",
       "      <td>I Tried Kim Kardashian's Butt Workout &amp; Am For...</td>\n",
       "      <td>868114761723936769\\t868122567910936576\\t868128...</td>\n",
       "      <td>1</td>\n",
       "    </tr>\n",
       "    <tr>\n",
       "      <th>4</th>\n",
       "      <td>gossipcop-884684</td>\n",
       "      <td>https://www.cnn.com/2017/10/04/entertainment/c...</td>\n",
       "      <td>Celine Dion donates concert proceeds to Vegas ...</td>\n",
       "      <td>915528047004209152\\t915529285171122176\\t915530...</td>\n",
       "      <td>1</td>\n",
       "    </tr>\n",
       "    <tr>\n",
       "      <th>...</th>\n",
       "      <td>...</td>\n",
       "      <td>...</td>\n",
       "      <td>...</td>\n",
       "      <td>...</td>\n",
       "      <td>...</td>\n",
       "    </tr>\n",
       "    <tr>\n",
       "      <th>5750</th>\n",
       "      <td>politifact14944</td>\n",
       "      <td>http://thehill.com/homenews/senate/369928-who-...</td>\n",
       "      <td>Who is affected by the government shutdown?</td>\n",
       "      <td>954602090462146560\\t954602093171609600\\t954650...</td>\n",
       "      <td>0</td>\n",
       "    </tr>\n",
       "    <tr>\n",
       "      <th>5751</th>\n",
       "      <td>politifact14071</td>\n",
       "      <td>https://web.archive.org/web/20170322070001/htt...</td>\n",
       "      <td>Lindsey Graham Threatens To Convert To Democra...</td>\n",
       "      <td>740351669834244096\\t740391312277573632\\t740474...</td>\n",
       "      <td>0</td>\n",
       "    </tr>\n",
       "    <tr>\n",
       "      <th>5752</th>\n",
       "      <td>politifact13577</td>\n",
       "      <td>http://archive.is/DQqCx</td>\n",
       "      <td>ELECTORAL COLLEGE ELECTOR COMMITS SUICIDE TO A...</td>\n",
       "      <td>810939651900907520\\t814738996706164737\\t814917...</td>\n",
       "      <td>0</td>\n",
       "    </tr>\n",
       "    <tr>\n",
       "      <th>5753</th>\n",
       "      <td>politifact13560</td>\n",
       "      <td>politicono.com/palin-calls-boycott-mall-americ...</td>\n",
       "      <td>Sarah Palin Calls To Boycott Mall Of America B...</td>\n",
       "      <td>805216591424212993\\t805222830023540736\\t805223...</td>\n",
       "      <td>0</td>\n",
       "    </tr>\n",
       "    <tr>\n",
       "      <th>5754</th>\n",
       "      <td>politifact15030</td>\n",
       "      <td>https://theglobalheadlines.net/breaking-intel-...</td>\n",
       "      <td>Account Suspended</td>\n",
       "      <td>934217740692443136\\t934217839816445952\\t934217...</td>\n",
       "      <td>0</td>\n",
       "    </tr>\n",
       "  </tbody>\n",
       "</table>\n",
       "<p>23196 rows × 5 columns</p>\n",
       "</div>"
      ],
      "text/plain": [
       "                    id                                           news_url  \\\n",
       "0     gossipcop-882573  https://www.brides.com/story/teen-mom-jenelle-...   \n",
       "1     gossipcop-875924  https://www.dailymail.co.uk/tvshowbiz/article-...   \n",
       "2     gossipcop-894416        https://en.wikipedia.org/wiki/Quinn_Perkins   \n",
       "3     gossipcop-857248  https://www.refinery29.com/en-us/2018/03/19192...   \n",
       "4     gossipcop-884684  https://www.cnn.com/2017/10/04/entertainment/c...   \n",
       "...                ...                                                ...   \n",
       "5750   politifact14944  http://thehill.com/homenews/senate/369928-who-...   \n",
       "5751   politifact14071  https://web.archive.org/web/20170322070001/htt...   \n",
       "5752   politifact13577                            http://archive.is/DQqCx   \n",
       "5753   politifact13560  politicono.com/palin-calls-boycott-mall-americ...   \n",
       "5754   politifact15030  https://theglobalheadlines.net/breaking-intel-...   \n",
       "\n",
       "                                                  title  \\\n",
       "0     Teen Mom Star Jenelle Evans' Wedding Dress Is ...   \n",
       "1     Kylie Jenner refusing to discuss Tyga on Life ...   \n",
       "2                                         Quinn Perkins   \n",
       "3     I Tried Kim Kardashian's Butt Workout & Am For...   \n",
       "4     Celine Dion donates concert proceeds to Vegas ...   \n",
       "...                                                 ...   \n",
       "5750        Who is affected by the government shutdown?   \n",
       "5751  Lindsey Graham Threatens To Convert To Democra...   \n",
       "5752  ELECTORAL COLLEGE ELECTOR COMMITS SUICIDE TO A...   \n",
       "5753  Sarah Palin Calls To Boycott Mall Of America B...   \n",
       "5754                                  Account Suspended   \n",
       "\n",
       "                                              tweet_ids  true  \n",
       "0     912371411146149888\\t912371528343408641\\t912372...     1  \n",
       "1     901989917546426369\\t901989992074969089\\t901990...     1  \n",
       "2     931263637246881792\\t931265332022579201\\t931265...     1  \n",
       "3     868114761723936769\\t868122567910936576\\t868128...     1  \n",
       "4     915528047004209152\\t915529285171122176\\t915530...     1  \n",
       "...                                                 ...   ...  \n",
       "5750  954602090462146560\\t954602093171609600\\t954650...     0  \n",
       "5751  740351669834244096\\t740391312277573632\\t740474...     0  \n",
       "5752  810939651900907520\\t814738996706164737\\t814917...     0  \n",
       "5753  805216591424212993\\t805222830023540736\\t805223...     0  \n",
       "5754  934217740692443136\\t934217839816445952\\t934217...     0  \n",
       "\n",
       "[23196 rows x 5 columns]"
      ]
     },
     "metadata": {},
     "output_type": "display_data"
    }
   ],
   "source": [
    "# add labels to both df\n",
    "true_df['true'] = 1\n",
    "fake_df['true'] = 0\n",
    "\n",
    "# concat\n",
    "df = pd.concat([true_df, fake_df])\n",
    "display(df)\n"
   ]
  },
  {
   "cell_type": "code",
   "execution_count": 67,
   "id": "69598e22",
   "metadata": {},
   "outputs": [
    {
     "name": "stdout",
     "output_type": "stream",
     "text": [
      "Number of titles: 23196\n",
      "Max length of the titles: 53\n",
      "Mean length of the titles: 11.161191584755992\n"
     ]
    }
   ],
   "source": [
    "# inspect length of news\n",
    "titles = [text for text in df.title]\n",
    "\n",
    "max_len = 0\n",
    "titles_len = []\n",
    "for title in titles:\n",
    "    titles_len.append(len(title.split()))\n",
    "    max_len = max(len(title.split()), max_len)\n",
    "    \n",
    "print('Number of titles:', len(titles))\n",
    "print('Max length of the titles:', max_len)\n",
    "print('Mean length of the titles:', np.mean(titles_len))"
   ]
  },
  {
   "cell_type": "code",
   "execution_count": 68,
   "id": "b2a099c6",
   "metadata": {},
   "outputs": [
    {
     "data": {
      "image/png": "[encoded data removed]",
      "text/plain": [
       "<Figure size 2000x500 with 1 Axes>"
      ]
     },
     "metadata": {},
     "output_type": "display_data"
    }
   ],
   "source": [
    "plt.figure(figsize=(20,5))\n",
    "g = sns.countplot(x=titles_len)\n",
    "g.set_xticklabels(g.get_xticklabels(), rotation=50)\n",
    "plt.show()"
   ]
  },
  {
   "cell_type": "code",
   "execution_count": 69,
   "id": "abbcec95",
   "metadata": {},
   "outputs": [
    {
     "data": {
      "text/html": [
       "<div>\n",
       "<style scoped>\n",
       "    .dataframe tbody tr th:only-of-type {\n",
       "        vertical-align: middle;\n",
       "    }\n",
       "\n",
       "    .dataframe tbody tr th {\n",
       "        vertical-align: top;\n",
       "    }\n",
       "\n",
       "    .dataframe thead th {\n",
       "        text-align: right;\n",
       "    }\n",
       "</style>\n",
       "<table border=\"1\" class=\"dataframe\">\n",
       "  <thead>\n",
       "    <tr style=\"text-align: right;\">\n",
       "      <th></th>\n",
       "      <th>title</th>\n",
       "      <th>true</th>\n",
       "    </tr>\n",
       "  </thead>\n",
       "  <tbody>\n",
       "    <tr>\n",
       "      <th>0</th>\n",
       "      <td>'The Bold Type' sneak peek: Jane's first day b...</td>\n",
       "      <td>1</td>\n",
       "    </tr>\n",
       "    <tr>\n",
       "      <th>1</th>\n",
       "      <td>Gwen Stefani Acting Like She’s Pregnant, Says ...</td>\n",
       "      <td>0</td>\n",
       "    </tr>\n",
       "    <tr>\n",
       "      <th>2</th>\n",
       "      <td>The One with the Rumor</td>\n",
       "      <td>0</td>\n",
       "    </tr>\n",
       "    <tr>\n",
       "      <th>3</th>\n",
       "      <td>Scheana Marie Gets Candid About Her Past Relat...</td>\n",
       "      <td>1</td>\n",
       "    </tr>\n",
       "    <tr>\n",
       "      <th>4</th>\n",
       "      <td>Tristan Thompson Benched in Playoff Game Amid ...</td>\n",
       "      <td>1</td>\n",
       "    </tr>\n",
       "    <tr>\n",
       "      <th>...</th>\n",
       "      <td>...</td>\n",
       "      <td>...</td>\n",
       "    </tr>\n",
       "    <tr>\n",
       "      <th>23191</th>\n",
       "      <td>Paul Walker's daughter settles with Porsche in...</td>\n",
       "      <td>1</td>\n",
       "    </tr>\n",
       "    <tr>\n",
       "      <th>23192</th>\n",
       "      <td>The Arrangement (2017) s02e09 Episode Script</td>\n",
       "      <td>1</td>\n",
       "    </tr>\n",
       "    <tr>\n",
       "      <th>23193</th>\n",
       "      <td>Harvard's famed Hasty Pudding troupe will cast...</td>\n",
       "      <td>1</td>\n",
       "    </tr>\n",
       "    <tr>\n",
       "      <th>23194</th>\n",
       "      <td>Inside the Golden Globes 2018 After Parties: H...</td>\n",
       "      <td>1</td>\n",
       "    </tr>\n",
       "    <tr>\n",
       "      <th>23195</th>\n",
       "      <td>Eddie Redmayne and Wife Hannah Make First Publ...</td>\n",
       "      <td>1</td>\n",
       "    </tr>\n",
       "  </tbody>\n",
       "</table>\n",
       "<p>23196 rows × 2 columns</p>\n",
       "</div>"
      ],
      "text/plain": [
       "                                                   title  true\n",
       "0      'The Bold Type' sneak peek: Jane's first day b...     1\n",
       "1      Gwen Stefani Acting Like She’s Pregnant, Says ...     0\n",
       "2                                 The One with the Rumor     0\n",
       "3      Scheana Marie Gets Candid About Her Past Relat...     1\n",
       "4      Tristan Thompson Benched in Playoff Game Amid ...     1\n",
       "...                                                  ...   ...\n",
       "23191  Paul Walker's daughter settles with Porsche in...     1\n",
       "23192       The Arrangement (2017) s02e09 Episode Script     1\n",
       "23193  Harvard's famed Hasty Pudding troupe will cast...     1\n",
       "23194  Inside the Golden Globes 2018 After Parties: H...     1\n",
       "23195  Eddie Redmayne and Wife Hannah Make First Publ...     1\n",
       "\n",
       "[23196 rows x 2 columns]"
      ]
     },
     "metadata": {},
     "output_type": "display_data"
    }
   ],
   "source": [
    "# purify and shuffle the DataFrame\n",
    "from sklearn.utils import shuffle\n",
    "\n",
    "# purify\n",
    "df = df.iloc[:, [2,-1]]\n",
    "\n",
    "# shuffle\n",
    "df = shuffle(df).reset_index(drop=True)\n",
    "\n",
    "display(df)"
   ]
  },
  {
   "cell_type": "code",
   "execution_count": 70,
   "id": "c35054b7",
   "metadata": {},
   "outputs": [
    {
     "name": "stdout",
     "output_type": "stream",
     "text": [
      "trainset size: (18557, 2)\n",
      "valset size: (4639, 2)\n"
     ]
    }
   ],
   "source": [
    "train_df = df.sample(frac=0.8)\n",
    "val_df = df.drop(train_df.index)\n",
    "\n",
    "# reset index\n",
    "train_df = train_df.reset_index(drop=True)\n",
    "val_df = val_df.reset_index(drop=True)\n",
    "\n",
    "print('trainset size:', train_df.shape)\n",
    "print('valset size:', val_df.shape)"
   ]
  },
  {
   "cell_type": "code",
   "execution_count": 71,
   "id": "72516567",
   "metadata": {},
   "outputs": [
    {
     "data": {
      "text/plain": [
       "0"
      ]
     },
     "execution_count": 71,
     "metadata": {},
     "output_type": "execute_result"
    }
   ],
   "source": [
    "# check for null titles\n",
    "train_df['title'].isnull().sum()\n",
    "val_df['title'].isnull().sum()"
   ]
  },
  {
   "cell_type": "code",
   "execution_count": 72,
   "id": "d00c3c58",
   "metadata": {},
   "outputs": [],
   "source": [
    "# DataFrame to csv\n",
    "train_df.to_csv('train.tsv', sep='\\t', index=False)\n",
    "val_df.to_csv('val.tsv', sep='\\t', index=False)"
   ]
  },
  {
   "cell_type": "code",
   "execution_count": 73,
   "id": "ffb1bca3",
   "metadata": {},
   "outputs": [],
   "source": [
    "train_df = pd.read_csv('train.tsv', sep='\\t')\n",
    "val_df = pd.read_csv('val.tsv', sep='\\t')\n",
    "\n"
   ]
  },
  {
   "cell_type": "code",
   "execution_count": 74,
   "id": "9842779c",
   "metadata": {},
   "outputs": [
    {
     "data": {
      "text/plain": [
       "0"
      ]
     },
     "execution_count": 74,
     "metadata": {},
     "output_type": "execute_result"
    }
   ],
   "source": [
    "\n",
    "# no null values in dataset\n",
    "train_df['title'].isnull().sum()"
   ]
  },
  {
   "cell_type": "code",
   "execution_count": 75,
   "id": "c38d2799",
   "metadata": {},
   "outputs": [
    {
     "data": {
      "text/plain": [
       "0"
      ]
     },
     "execution_count": 75,
     "metadata": {},
     "output_type": "execute_result"
    }
   ],
   "source": [
    "val_df['title'].isnull().sum()"
   ]
  },
  {
   "cell_type": "code",
   "execution_count": 76,
   "id": "8475fc48",
   "metadata": {},
   "outputs": [
    {
     "name": "stdout",
     "output_type": "stream",
     "text": [
      "Train real news: 13961\n",
      "Train fake news: 4596\n",
      "Val real news: 3480\n",
      "Val fake news: 1159\n"
     ]
    }
   ],
   "source": [
    "print('Train real news:', train_df[train_df['true']==1].shape[0])\n",
    "print('Train fake news:', train_df[train_df['true']==0].shape[0])\n",
    "\n",
    "print('Val real news:', val_df[val_df['true']==1].shape[0])\n",
    "print('Val fake news:', val_df[val_df['true']==0].shape[0])"
   ]
  },
  {
   "cell_type": "code",
   "execution_count": 77,
   "id": "4fed5b84",
   "metadata": {},
   "outputs": [
    {
     "data": {
      "text/plain": [
       "'Former first lady Barbara Bush, wife and mother of presidents, dead at 92'"
      ]
     },
     "execution_count": 77,
     "metadata": {},
     "output_type": "execute_result"
    }
   ],
   "source": [
    "#sample real news\n",
    "train_df[train_df['true']==1].sample(n=1)['title'].iloc[0]"
   ]
  },
  {
   "cell_type": "code",
   "execution_count": 78,
   "id": "557f8893",
   "metadata": {},
   "outputs": [
    {
     "data": {
      "text/plain": [
       "\"Trump's Latest Order Bans Majority of Transgender Troops from Serving\""
      ]
     },
     "execution_count": 78,
     "metadata": {},
     "output_type": "execute_result"
    }
   ],
   "source": [
    "#sample fake news\n",
    "train_df[train_df['true']==0].sample(n=1)['title'].iloc[0]"
   ]
  },
  {
   "cell_type": "code",
   "execution_count": 79,
   "id": "64a66b04",
   "metadata": {},
   "outputs": [
    {
     "data": {
      "text/plain": [
       "count    18557.000000\n",
       "mean        11.160101\n",
       "std          3.967882\n",
       "min          1.000000\n",
       "25%          9.000000\n",
       "50%         11.000000\n",
       "75%         14.000000\n",
       "max         53.000000\n",
       "Name: title, dtype: float64"
      ]
     },
     "execution_count": 79,
     "metadata": {},
     "output_type": "execute_result"
    }
   ],
   "source": [
    "# word count in news\n",
    "word_counts_train = train_df['title'].apply(lambda x: len(x.split()))\n",
    "word_counts_train.describe()"
   ]
  },
  {
   "cell_type": "code",
   "execution_count": 80,
   "id": "841d254f",
   "metadata": {},
   "outputs": [
    {
     "data": {
      "text/plain": [
       "count    4639.000000\n",
       "mean       11.165553\n",
       "std         4.017127\n",
       "min         1.000000\n",
       "25%         9.000000\n",
       "50%        11.000000\n",
       "75%        14.000000\n",
       "max        38.000000\n",
       "Name: title, dtype: float64"
      ]
     },
     "execution_count": 80,
     "metadata": {},
     "output_type": "execute_result"
    }
   ],
   "source": [
    "word_counts_val = val_df['title'].apply(lambda x: len(x.split()))\n",
    "word_counts_val.describe()"
   ]
  },
  {
   "cell_type": "code",
   "execution_count": 81,
   "id": "ecc7b5bf",
   "metadata": {},
   "outputs": [
    {
     "name": "stderr",
     "output_type": "stream",
     "text": [
      "[nltk_data] Downloading package punkt to\n",
      "[nltk_data]     C:\\Users\\Ishraq\\AppData\\Roaming\\nltk_data...\n",
      "[nltk_data]   Unzipping tokenizers\\punkt.zip.\n",
      "[nltk_data] Downloading package stopwords to\n",
      "[nltk_data]     C:\\Users\\Ishraq\\AppData\\Roaming\\nltk_data...\n",
      "[nltk_data]   Unzipping corpora\\stopwords.zip.\n",
      "[nltk_data] Downloading package wordnet to\n",
      "[nltk_data]     C:\\Users\\Ishraq\\AppData\\Roaming\\nltk_data...\n"
     ]
    }
   ],
   "source": [
    "import re\n",
    "import nltk\n",
    "nltk.download('punkt')\n",
    "nltk.download('stopwords')\n",
    "nltk.download('wordnet')\n",
    "from nltk.corpus import stopwords\n",
    "from nltk.tokenize import word_tokenize\n",
    "from nltk.stem import WordNetLemmatizer"
   ]
  },
  {
   "cell_type": "code",
   "execution_count": 82,
   "id": "8d7f344e",
   "metadata": {},
   "outputs": [],
   "source": [
    "stop_words = stopwords.words('english')\n",
    "stop_words.remove('not')\n",
    "lemmatizer = WordNetLemmatizer()"
   ]
  },
  {
   "cell_type": "code",
   "execution_count": 83,
   "id": "a5804ae8",
   "metadata": {},
   "outputs": [],
   "source": [
    "def data_preprocessing(review):\n",
    "    \n",
    "    # data cleaning\n",
    "    review = re.sub(re.compile('<.*?>'), '', review) # remove html tags\n",
    "    review = re.sub('[^A-Za-z0-9]+', ' ', review) # taking only words\n",
    "    \n",
    "    # lowercase\n",
    "    review = review.lower()\n",
    "    \n",
    "    # tokenization\n",
    "    tokens = nltk.word_tokenize(review)\n",
    "    \n",
    "    # stop word removal\n",
    "    review = [word for word in tokens if word not in stop_words]\n",
    "    \n",
    "    # lemmatization\n",
    "    review = [lemmatizer.lemmatize(word) for word in review]\n",
    "    \n",
    "    # join words in preprocessed review\n",
    "    review = ' '.join(review)\n",
    "    \n",
    "    return review"
   ]
  },
  {
   "cell_type": "code",
   "execution_count": 84,
   "id": "2fc5046c",
   "metadata": {},
   "outputs": [
    {
     "name": "stderr",
     "output_type": "stream",
     "text": [
      "[nltk_data] Downloading package omw-1.4 to\n",
      "[nltk_data]     C:\\Users\\Ishraq\\AppData\\Roaming\\nltk_data...\n"
     ]
    },
    {
     "data": {
      "text/plain": [
       "True"
      ]
     },
     "execution_count": 84,
     "metadata": {},
     "output_type": "execute_result"
    }
   ],
   "source": [
    "nltk.download('omw-1.4')"
   ]
  },
  {
   "cell_type": "code",
   "execution_count": 85,
   "id": "067d162a",
   "metadata": {},
   "outputs": [
    {
     "data": {
      "text/html": [
       "<div>\n",
       "<style scoped>\n",
       "    .dataframe tbody tr th:only-of-type {\n",
       "        vertical-align: middle;\n",
       "    }\n",
       "\n",
       "    .dataframe tbody tr th {\n",
       "        vertical-align: top;\n",
       "    }\n",
       "\n",
       "    .dataframe thead th {\n",
       "        text-align: right;\n",
       "    }\n",
       "</style>\n",
       "<table border=\"1\" class=\"dataframe\">\n",
       "  <thead>\n",
       "    <tr style=\"text-align: right;\">\n",
       "      <th></th>\n",
       "      <th>title</th>\n",
       "      <th>true</th>\n",
       "      <th>preprocessed_title</th>\n",
       "    </tr>\n",
       "  </thead>\n",
       "  <tbody>\n",
       "    <tr>\n",
       "      <th>0</th>\n",
       "      <td>Meghan Markle Was a Briefcase Model on ‘Deal o...</td>\n",
       "      <td>1</td>\n",
       "      <td>meghan markle briefcase model deal deal</td>\n",
       "    </tr>\n",
       "    <tr>\n",
       "      <th>1</th>\n",
       "      <td>2017 MTV Movie &amp; TV Awards Winners: See The Fu...</td>\n",
       "      <td>1</td>\n",
       "      <td>2017 mtv movie tv award winner see full list</td>\n",
       "    </tr>\n",
       "    <tr>\n",
       "      <th>2</th>\n",
       "      <td>Fergie and Josh Duhamel split</td>\n",
       "      <td>0</td>\n",
       "      <td>fergie josh duhamel split</td>\n",
       "    </tr>\n",
       "    <tr>\n",
       "      <th>3</th>\n",
       "      <td>Jurassic World: Fallen Kingdom (2018)</td>\n",
       "      <td>1</td>\n",
       "      <td>jurassic world fallen kingdom 2018</td>\n",
       "    </tr>\n",
       "    <tr>\n",
       "      <th>4</th>\n",
       "      <td>Meghan Markle Pens Emotional Essay About Being...</td>\n",
       "      <td>0</td>\n",
       "      <td>meghan markle pen emotional essay biracial act...</td>\n",
       "    </tr>\n",
       "    <tr>\n",
       "      <th>...</th>\n",
       "      <td>...</td>\n",
       "      <td>...</td>\n",
       "      <td>...</td>\n",
       "    </tr>\n",
       "    <tr>\n",
       "      <th>18552</th>\n",
       "      <td>Kim Kardashian’s New Nude Pics Are ‘Part Of A ...</td>\n",
       "      <td>0</td>\n",
       "      <td>kim kardashian new nude pic part sexy flirtati...</td>\n",
       "    </tr>\n",
       "    <tr>\n",
       "      <th>18553</th>\n",
       "      <td>OBAMA CANCELED IT, TRUMP REINSTATED IT – A VER...</td>\n",
       "      <td>0</td>\n",
       "      <td>obama canceled trump reinstated sacred day back</td>\n",
       "    </tr>\n",
       "    <tr>\n",
       "      <th>18554</th>\n",
       "      <td>Tina Knowles Lawson Shades The Grammys After J...</td>\n",
       "      <td>1</td>\n",
       "      <td>tina knowles lawson shade grammys jay z winles...</td>\n",
       "    </tr>\n",
       "    <tr>\n",
       "      <th>18555</th>\n",
       "      <td>Selena Gomez wishes a happy birthday to 'super...</td>\n",
       "      <td>1</td>\n",
       "      <td>selena gomez wish happy birthday super cool ju...</td>\n",
       "    </tr>\n",
       "    <tr>\n",
       "      <th>18556</th>\n",
       "      <td>What Shonda Rhimes Move to Netflix Says About ...</td>\n",
       "      <td>1</td>\n",
       "      <td>shonda rhimes move netflix say broadcast tv va...</td>\n",
       "    </tr>\n",
       "  </tbody>\n",
       "</table>\n",
       "<p>18557 rows × 3 columns</p>\n",
       "</div>"
      ],
      "text/plain": [
       "                                                   title  true  \\\n",
       "0      Meghan Markle Was a Briefcase Model on ‘Deal o...     1   \n",
       "1      2017 MTV Movie & TV Awards Winners: See The Fu...     1   \n",
       "2                          Fergie and Josh Duhamel split     0   \n",
       "3                  Jurassic World: Fallen Kingdom (2018)     1   \n",
       "4      Meghan Markle Pens Emotional Essay About Being...     0   \n",
       "...                                                  ...   ...   \n",
       "18552  Kim Kardashian’s New Nude Pics Are ‘Part Of A ...     0   \n",
       "18553  OBAMA CANCELED IT, TRUMP REINSTATED IT – A VER...     0   \n",
       "18554  Tina Knowles Lawson Shades The Grammys After J...     1   \n",
       "18555  Selena Gomez wishes a happy birthday to 'super...     1   \n",
       "18556  What Shonda Rhimes Move to Netflix Says About ...     1   \n",
       "\n",
       "                                      preprocessed_title  \n",
       "0                meghan markle briefcase model deal deal  \n",
       "1           2017 mtv movie tv award winner see full list  \n",
       "2                              fergie josh duhamel split  \n",
       "3                     jurassic world fallen kingdom 2018  \n",
       "4      meghan markle pen emotional essay biracial act...  \n",
       "...                                                  ...  \n",
       "18552  kim kardashian new nude pic part sexy flirtati...  \n",
       "18553    obama canceled trump reinstated sacred day back  \n",
       "18554  tina knowles lawson shade grammys jay z winles...  \n",
       "18555  selena gomez wish happy birthday super cool ju...  \n",
       "18556  shonda rhimes move netflix say broadcast tv va...  \n",
       "\n",
       "[18557 rows x 3 columns]"
      ]
     },
     "execution_count": 85,
     "metadata": {},
     "output_type": "execute_result"
    }
   ],
   "source": [
    "train_df['preprocessed_title'] = train_df['title'].apply(lambda review: data_preprocessing(review))\n",
    "train_df"
   ]
  }
 ],
 "metadata": {
  "kernelspec": {
   "display_name": "Python 3 (ipykernel)",
   "language": "python",
   "name": "python3"
  },
  "language_info": {
   "codemirror_mode": {
    "name": "ipython",
    "version": 3
   },
   "file_extension": ".py",
   "mimetype": "text/x-python",
   "name": "python",
   "nbconvert_exporter": "python",
   "pygments_lexer": "ipython3",
   "version": "3.11.4"
  }
 },
 "nbformat": 4,
 "nbformat_minor": 5
}
