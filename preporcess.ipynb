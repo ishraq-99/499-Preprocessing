{
 "cells": [
  {
   "cell_type": "code",
   "execution_count": 38,
   "id": "dec8ed6a-ea59-4583-b65f-175162257087",
   "metadata": {},
   "outputs": [],
   "source": [
    "import pandas as pd\n",
    "import numpy as np\n",
    "import matplotlib.pyplot as plt  # Import Matplotlib\n",
    "import seaborn as sns  # Import Seaborn"
   ]
  },
  {
   "cell_type": "code",
   "execution_count": 39,
   "id": "fb90cc18-0988-41f5-b471-89b70aa895a7",
   "metadata": {},
   "outputs": [],
   "source": [
    "gossipcop_fake_df = pd.read_csv('dataset/gossipcop_fake.csv')\n",
    "gossipcop_real_df = pd.read_csv('dataset/gossipcop_real.csv')\n",
    "\n",
    "politifact_fake_df = pd.read_csv('dataset/politifact_fake.csv')\n",
    "politifact_real_df = pd.read_csv('dataset/politifact_real.csv')"
   ]
  },
  {
   "cell_type": "code",
   "execution_count": 40,
   "id": "fa9a98c4-cb71-4c6c-8be6-c494e3ba2481",
   "metadata": {},
   "outputs": [],
   "source": [
    "fake_df = pd.concat([gossipcop_fake_df, politifact_fake_df])\n",
    "true_df = pd.concat([gossipcop_real_df, politifact_real_df])\n",
    "\n",
    "fake_df.index = [x for x in range(len(gossipcop_fake_df) + len(politifact_fake_df))]\n",
    "true_df.index = [x for x in range(len(gossipcop_real_df) + len(politifact_real_df))]"
   ]
  },
  {
   "cell_type": "code",
   "execution_count": 41,
   "id": "5d7ce1e6",
   "metadata": {},
   "outputs": [
    {
     "data": {
      "text/html": [
       "<div>\n",
       "<style scoped>\n",
       "    .dataframe tbody tr th:only-of-type {\n",
       "        vertical-align: middle;\n",
       "    }\n",
       "\n",
       "    .dataframe tbody tr th {\n",
       "        vertical-align: top;\n",
       "    }\n",
       "\n",
       "    .dataframe thead th {\n",
       "        text-align: right;\n",
       "    }\n",
       "</style>\n",
       "<table border=\"1\" class=\"dataframe\">\n",
       "  <thead>\n",
       "    <tr style=\"text-align: right;\">\n",
       "      <th></th>\n",
       "      <th>id</th>\n",
       "      <th>news_url</th>\n",
       "      <th>title</th>\n",
       "      <th>tweet_ids</th>\n",
       "      <th>true</th>\n",
       "    </tr>\n",
       "  </thead>\n",
       "  <tbody>\n",
       "    <tr>\n",
       "      <th>0</th>\n",
       "      <td>gossipcop-882573</td>\n",
       "      <td>https://www.brides.com/story/teen-mom-jenelle-...</td>\n",
       "      <td>Teen Mom Star Jenelle Evans' Wedding Dress Is ...</td>\n",
       "      <td>912371411146149888\\t912371528343408641\\t912372...</td>\n",
       "      <td>1</td>\n",
       "    </tr>\n",
       "    <tr>\n",
       "      <th>1</th>\n",
       "      <td>gossipcop-875924</td>\n",
       "      <td>https://www.dailymail.co.uk/tvshowbiz/article-...</td>\n",
       "      <td>Kylie Jenner refusing to discuss Tyga on Life ...</td>\n",
       "      <td>901989917546426369\\t901989992074969089\\t901990...</td>\n",
       "      <td>1</td>\n",
       "    </tr>\n",
       "    <tr>\n",
       "      <th>2</th>\n",
       "      <td>gossipcop-894416</td>\n",
       "      <td>https://en.wikipedia.org/wiki/Quinn_Perkins</td>\n",
       "      <td>Quinn Perkins</td>\n",
       "      <td>931263637246881792\\t931265332022579201\\t931265...</td>\n",
       "      <td>1</td>\n",
       "    </tr>\n",
       "    <tr>\n",
       "      <th>3</th>\n",
       "      <td>gossipcop-857248</td>\n",
       "      <td>https://www.refinery29.com/en-us/2018/03/19192...</td>\n",
       "      <td>I Tried Kim Kardashian's Butt Workout &amp; Am For...</td>\n",
       "      <td>868114761723936769\\t868122567910936576\\t868128...</td>\n",
       "      <td>1</td>\n",
       "    </tr>\n",
       "    <tr>\n",
       "      <th>4</th>\n",
       "      <td>gossipcop-884684</td>\n",
       "      <td>https://www.cnn.com/2017/10/04/entertainment/c...</td>\n",
       "      <td>Celine Dion donates concert proceeds to Vegas ...</td>\n",
       "      <td>915528047004209152\\t915529285171122176\\t915530...</td>\n",
       "      <td>1</td>\n",
       "    </tr>\n",
       "    <tr>\n",
       "      <th>...</th>\n",
       "      <td>...</td>\n",
       "      <td>...</td>\n",
       "      <td>...</td>\n",
       "      <td>...</td>\n",
       "      <td>...</td>\n",
       "    </tr>\n",
       "    <tr>\n",
       "      <th>5750</th>\n",
       "      <td>politifact14944</td>\n",
       "      <td>http://thehill.com/homenews/senate/369928-who-...</td>\n",
       "      <td>Who is affected by the government shutdown?</td>\n",
       "      <td>954602090462146560\\t954602093171609600\\t954650...</td>\n",
       "      <td>0</td>\n",
       "    </tr>\n",
       "    <tr>\n",
       "      <th>5751</th>\n",
       "      <td>politifact14071</td>\n",
       "      <td>https://web.archive.org/web/20170322070001/htt...</td>\n",
       "      <td>Lindsey Graham Threatens To Convert To Democra...</td>\n",
       "      <td>740351669834244096\\t740391312277573632\\t740474...</td>\n",
       "      <td>0</td>\n",
       "    </tr>\n",
       "    <tr>\n",
       "      <th>5752</th>\n",
       "      <td>politifact13577</td>\n",
       "      <td>http://archive.is/DQqCx</td>\n",
       "      <td>ELECTORAL COLLEGE ELECTOR COMMITS SUICIDE TO A...</td>\n",
       "      <td>810939651900907520\\t814738996706164737\\t814917...</td>\n",
       "      <td>0</td>\n",
       "    </tr>\n",
       "    <tr>\n",
       "      <th>5753</th>\n",
       "      <td>politifact13560</td>\n",
       "      <td>politicono.com/palin-calls-boycott-mall-americ...</td>\n",
       "      <td>Sarah Palin Calls To Boycott Mall Of America B...</td>\n",
       "      <td>805216591424212993\\t805222830023540736\\t805223...</td>\n",
       "      <td>0</td>\n",
       "    </tr>\n",
       "    <tr>\n",
       "      <th>5754</th>\n",
       "      <td>politifact15030</td>\n",
       "      <td>https://theglobalheadlines.net/breaking-intel-...</td>\n",
       "      <td>Account Suspended</td>\n",
       "      <td>934217740692443136\\t934217839816445952\\t934217...</td>\n",
       "      <td>0</td>\n",
       "    </tr>\n",
       "  </tbody>\n",
       "</table>\n",
       "<p>23196 rows × 5 columns</p>\n",
       "</div>"
      ],
      "text/plain": [
       "                    id                                           news_url  \\\n",
       "0     gossipcop-882573  https://www.brides.com/story/teen-mom-jenelle-...   \n",
       "1     gossipcop-875924  https://www.dailymail.co.uk/tvshowbiz/article-...   \n",
       "2     gossipcop-894416        https://en.wikipedia.org/wiki/Quinn_Perkins   \n",
       "3     gossipcop-857248  https://www.refinery29.com/en-us/2018/03/19192...   \n",
       "4     gossipcop-884684  https://www.cnn.com/2017/10/04/entertainment/c...   \n",
       "...                ...                                                ...   \n",
       "5750   politifact14944  http://thehill.com/homenews/senate/369928-who-...   \n",
       "5751   politifact14071  https://web.archive.org/web/20170322070001/htt...   \n",
       "5752   politifact13577                            http://archive.is/DQqCx   \n",
       "5753   politifact13560  politicono.com/palin-calls-boycott-mall-americ...   \n",
       "5754   politifact15030  https://theglobalheadlines.net/breaking-intel-...   \n",
       "\n",
       "                                                  title  \\\n",
       "0     Teen Mom Star Jenelle Evans' Wedding Dress Is ...   \n",
       "1     Kylie Jenner refusing to discuss Tyga on Life ...   \n",
       "2                                         Quinn Perkins   \n",
       "3     I Tried Kim Kardashian's Butt Workout & Am For...   \n",
       "4     Celine Dion donates concert proceeds to Vegas ...   \n",
       "...                                                 ...   \n",
       "5750        Who is affected by the government shutdown?   \n",
       "5751  Lindsey Graham Threatens To Convert To Democra...   \n",
       "5752  ELECTORAL COLLEGE ELECTOR COMMITS SUICIDE TO A...   \n",
       "5753  Sarah Palin Calls To Boycott Mall Of America B...   \n",
       "5754                                  Account Suspended   \n",
       "\n",
       "                                              tweet_ids  true  \n",
       "0     912371411146149888\\t912371528343408641\\t912372...     1  \n",
       "1     901989917546426369\\t901989992074969089\\t901990...     1  \n",
       "2     931263637246881792\\t931265332022579201\\t931265...     1  \n",
       "3     868114761723936769\\t868122567910936576\\t868128...     1  \n",
       "4     915528047004209152\\t915529285171122176\\t915530...     1  \n",
       "...                                                 ...   ...  \n",
       "5750  954602090462146560\\t954602093171609600\\t954650...     0  \n",
       "5751  740351669834244096\\t740391312277573632\\t740474...     0  \n",
       "5752  810939651900907520\\t814738996706164737\\t814917...     0  \n",
       "5753  805216591424212993\\t805222830023540736\\t805223...     0  \n",
       "5754  934217740692443136\\t934217839816445952\\t934217...     0  \n",
       "\n",
       "[23196 rows x 5 columns]"
      ]
     },
     "metadata": {},
     "output_type": "display_data"
    }
   ],
   "source": [
    "# add labels to both df\n",
    "true_df['true'] = 1\n",
    "fake_df['true'] = 0\n",
    "\n",
    "# concat\n",
    "df = pd.concat([true_df, fake_df])\n",
    "display(df)\n"
   ]
  },
  {
   "cell_type": "code",
   "execution_count": 42,
   "id": "69598e22",
   "metadata": {},
   "outputs": [
    {
     "name": "stdout",
     "output_type": "stream",
     "text": [
      "Number of titles: 23196\n",
      "Max length of the titles: 53\n",
      "Mean length of the titles: 11.161191584755992\n"
     ]
    }
   ],
   "source": [
    "# inspect length of news\n",
    "titles = [text for text in df.title]\n",
    "\n",
    "max_len = 0\n",
    "titles_len = []\n",
    "for title in titles:\n",
    "    titles_len.append(len(title.split()))\n",
    "    max_len = max(len(title.split()), max_len)\n",
    "    \n",
    "print('Number of titles:', len(titles))\n",
    "print('Max length of the titles:', max_len)\n",
    "print('Mean length of the titles:', np.mean(titles_len))"
   ]
  },
  {
   "cell_type": "code",
   "execution_count": 43,
   "id": "b2a099c6",
   "metadata": {},
   "outputs": [
    {
     "data": {
      "image/png": "[encoded data removed]",
      "text/plain": [
       "<Figure size 2000x500 with 1 Axes>"
      ]
     },
     "metadata": {},
     "output_type": "display_data"
    }
   ],
   "source": [
    "plt.figure(figsize=(20,5))\n",
    "g = sns.countplot(x=titles_len)\n",
    "g.set_xticklabels(g.get_xticklabels(), rotation=50)\n",
    "plt.show()"
   ]
  },
  {
   "cell_type": "code",
   "execution_count": 44,
   "id": "abbcec95",
   "metadata": {},
   "outputs": [
    {
     "data": {
      "text/html": [
       "<div>\n",
       "<style scoped>\n",
       "    .dataframe tbody tr th:only-of-type {\n",
       "        vertical-align: middle;\n",
       "    }\n",
       "\n",
       "    .dataframe tbody tr th {\n",
       "        vertical-align: top;\n",
       "    }\n",
       "\n",
       "    .dataframe thead th {\n",
       "        text-align: right;\n",
       "    }\n",
       "</style>\n",
       "<table border=\"1\" class=\"dataframe\">\n",
       "  <thead>\n",
       "    <tr style=\"text-align: right;\">\n",
       "      <th></th>\n",
       "      <th>title</th>\n",
       "      <th>true</th>\n",
       "    </tr>\n",
       "  </thead>\n",
       "  <tbody>\n",
       "    <tr>\n",
       "      <th>0</th>\n",
       "      <td>Is there a Britney Spears Sex Tape?</td>\n",
       "      <td>0</td>\n",
       "    </tr>\n",
       "    <tr>\n",
       "      <th>1</th>\n",
       "      <td>Ed Sheeran says he broke his arm in bike accident</td>\n",
       "      <td>1</td>\n",
       "    </tr>\n",
       "    <tr>\n",
       "      <th>2</th>\n",
       "      <td>9 Biggest Jaw-Droppers From the 2017 MTV VMAs</td>\n",
       "      <td>1</td>\n",
       "    </tr>\n",
       "    <tr>\n",
       "      <th>3</th>\n",
       "      <td>Exclusive: Céline Dion on the Met Gala and Her...</td>\n",
       "      <td>1</td>\n",
       "    </tr>\n",
       "    <tr>\n",
       "      <th>4</th>\n",
       "      <td>‘A Star Is Born’: Bradley Cooper, Lady Gaga in...</td>\n",
       "      <td>0</td>\n",
       "    </tr>\n",
       "    <tr>\n",
       "      <th>...</th>\n",
       "      <td>...</td>\n",
       "      <td>...</td>\n",
       "    </tr>\n",
       "    <tr>\n",
       "      <th>23191</th>\n",
       "      <td>Scarlett Johansson Sports a New Large Back Tat...</td>\n",
       "      <td>1</td>\n",
       "    </tr>\n",
       "    <tr>\n",
       "      <th>23192</th>\n",
       "      <td>Fact-Checking Feud: Bette and Joan Episode 6: ...</td>\n",
       "      <td>1</td>\n",
       "    </tr>\n",
       "    <tr>\n",
       "      <th>23193</th>\n",
       "      <td>Solange Recalls Incubus Singer Crush and Gives...</td>\n",
       "      <td>1</td>\n",
       "    </tr>\n",
       "    <tr>\n",
       "      <th>23194</th>\n",
       "      <td>Survivor’s Jenna Morasco Arrested After Allege...</td>\n",
       "      <td>1</td>\n",
       "    </tr>\n",
       "    <tr>\n",
       "      <th>23195</th>\n",
       "      <td>Brandon Lee Will Not Face Charges After Fight ...</td>\n",
       "      <td>1</td>\n",
       "    </tr>\n",
       "  </tbody>\n",
       "</table>\n",
       "<p>23196 rows × 2 columns</p>\n",
       "</div>"
      ],
      "text/plain": [
       "                                                   title  true\n",
       "0                    Is there a Britney Spears Sex Tape?     0\n",
       "1      Ed Sheeran says he broke his arm in bike accident     1\n",
       "2          9 Biggest Jaw-Droppers From the 2017 MTV VMAs     1\n",
       "3      Exclusive: Céline Dion on the Met Gala and Her...     1\n",
       "4      ‘A Star Is Born’: Bradley Cooper, Lady Gaga in...     0\n",
       "...                                                  ...   ...\n",
       "23191  Scarlett Johansson Sports a New Large Back Tat...     1\n",
       "23192  Fact-Checking Feud: Bette and Joan Episode 6: ...     1\n",
       "23193  Solange Recalls Incubus Singer Crush and Gives...     1\n",
       "23194  Survivor’s Jenna Morasco Arrested After Allege...     1\n",
       "23195  Brandon Lee Will Not Face Charges After Fight ...     1\n",
       "\n",
       "[23196 rows x 2 columns]"
      ]
     },
     "metadata": {},
     "output_type": "display_data"
    }
   ],
   "source": [
    "# purify and shuffle the DataFrame\n",
    "from sklearn.utils import shuffle\n",
    "\n",
    "# purify\n",
    "df = df.iloc[:, [2,-1]]\n",
    "\n",
    "# shuffle\n",
    "df = shuffle(df).reset_index(drop=True)\n",
    "\n",
    "display(df)"
   ]
  },
  {
   "cell_type": "code",
   "execution_count": 45,
   "id": "c35054b7",
   "metadata": {},
   "outputs": [
    {
     "name": "stdout",
     "output_type": "stream",
     "text": [
      "trainset size: (18557, 2)\n",
      "valset size: (4639, 2)\n"
     ]
    }
   ],
   "source": [
    "train_df = df.sample(frac=0.8)\n",
    "val_df = df.drop(train_df.index)\n",
    "\n",
    "# reset index\n",
    "train_df = train_df.reset_index(drop=True)\n",
    "val_df = val_df.reset_index(drop=True)\n",
    "\n",
    "print('trainset size:', train_df.shape)\n",
    "print('valset size:', val_df.shape)"
   ]
  },
  {
   "cell_type": "code",
   "execution_count": 46,
   "id": "72516567",
   "metadata": {},
   "outputs": [
    {
     "data": {
      "text/plain": [
       "0"
      ]
     },
     "execution_count": 46,
     "metadata": {},
     "output_type": "execute_result"
    }
   ],
   "source": [
    "# check for null titles\n",
    "train_df['title'].isnull().sum()\n",
    "val_df['title'].isnull().sum()"
   ]
  },
  {
   "cell_type": "code",
   "execution_count": 47,
   "id": "d00c3c58",
   "metadata": {},
   "outputs": [],
   "source": [
    "# DataFrame to csv\n",
    "train_df.to_csv('train.tsv', sep='\\t', index=False)\n",
    "val_df.to_csv('val.tsv', sep='\\t', index=False)"
   ]
  },
  {
   "cell_type": "code",
   "execution_count": 48,
   "id": "ffb1bca3",
   "metadata": {},
   "outputs": [],
   "source": [
    "train_df = pd.read_csv('train.tsv', sep='\\t')\n",
    "val_df = pd.read_csv('val.tsv', sep='\\t')\n",
    "\n"
   ]
  },
  {
   "cell_type": "code",
   "execution_count": 49,
   "id": "9842779c",
   "metadata": {},
   "outputs": [
    {
     "data": {
      "text/plain": [
       "0"
      ]
     },
     "execution_count": 49,
     "metadata": {},
     "output_type": "execute_result"
    }
   ],
   "source": [
    "\n",
    "# no null values in dataset\n",
    "train_df['title'].isnull().sum()"
   ]
  },
  {
   "cell_type": "code",
   "execution_count": 50,
   "id": "c38d2799",
   "metadata": {},
   "outputs": [
    {
     "data": {
      "text/plain": [
       "0"
      ]
     },
     "execution_count": 50,
     "metadata": {},
     "output_type": "execute_result"
    }
   ],
   "source": [
    "val_df['title'].isnull().sum()"
   ]
  },
  {
   "cell_type": "code",
   "execution_count": 51,
   "id": "8475fc48",
   "metadata": {},
   "outputs": [
    {
     "name": "stdout",
     "output_type": "stream",
     "text": [
      "Train real news: 13981\n",
      "Train fake news: 4576\n",
      "Val real news: 3460\n",
      "Val fake news: 1179\n"
     ]
    }
   ],
   "source": [
    "print('Train real news:', train_df[train_df['true']==1].shape[0])\n",
    "print('Train fake news:', train_df[train_df['true']==0].shape[0])\n",
    "\n",
    "print('Val real news:', val_df[val_df['true']==1].shape[0])\n",
    "print('Val fake news:', val_df[val_df['true']==0].shape[0])"
   ]
  },
  {
   "cell_type": "code",
   "execution_count": 52,
   "id": "4fed5b84",
   "metadata": {},
   "outputs": [
    {
     "data": {
      "text/plain": [
       "\"10 Celebrities' Instagram Stories You Should Watch\""
      ]
     },
     "execution_count": 52,
     "metadata": {},
     "output_type": "execute_result"
    }
   ],
   "source": [
    "#sample real news\n",
    "train_df[train_df['true']==1].sample(n=1)['title'].iloc[0]"
   ]
  },
  {
   "cell_type": "code",
   "execution_count": 53,
   "id": "557f8893",
   "metadata": {},
   "outputs": [
    {
     "data": {
      "text/plain": [
       "'5 Tom Cruise Dating Rumors You Should Stop Believing Now'"
      ]
     },
     "execution_count": 53,
     "metadata": {},
     "output_type": "execute_result"
    }
   ],
   "source": [
    "#sample fake news\n",
    "train_df[train_df['true']==0].sample(n=1)['title'].iloc[0]"
   ]
  },
  {
   "cell_type": "code",
   "execution_count": 54,
   "id": "64a66b04",
   "metadata": {},
   "outputs": [
    {
     "data": {
      "text/plain": [
       "count    18557.000000\n",
       "mean        11.153850\n",
       "std          3.994525\n",
       "min          1.000000\n",
       "25%          9.000000\n",
       "50%         11.000000\n",
       "75%         14.000000\n",
       "max         53.000000\n",
       "Name: title, dtype: float64"
      ]
     },
     "execution_count": 54,
     "metadata": {},
     "output_type": "execute_result"
    }
   ],
   "source": [
    "# word count in news\n",
    "word_counts_train = train_df['title'].apply(lambda x: len(x.split()))\n",
    "word_counts_train.describe()"
   ]
  },
  {
   "cell_type": "code",
   "execution_count": 55,
   "id": "841d254f",
   "metadata": {},
   "outputs": [
    {
     "data": {
      "text/plain": [
       "count    4639.000000\n",
       "mean       11.190558\n",
       "std         3.909927\n",
       "min         1.000000\n",
       "25%         9.000000\n",
       "50%        11.000000\n",
       "75%        14.000000\n",
       "max        31.000000\n",
       "Name: title, dtype: float64"
      ]
     },
     "execution_count": 55,
     "metadata": {},
     "output_type": "execute_result"
    }
   ],
   "source": [
    "word_counts_val = val_df['title'].apply(lambda x: len(x.split()))\n",
    "word_counts_val.describe()"
   ]
  },
  {
   "cell_type": "code",
   "execution_count": 56,
   "id": "ecc7b5bf",
   "metadata": {},
   "outputs": [
    {
     "name": "stderr",
     "output_type": "stream",
     "text": [
      "[nltk_data] Downloading package punkt to\n",
      "[nltk_data]     C:\\Users\\Ishraq\\AppData\\Roaming\\nltk_data...\n",
      "[nltk_data]   Package punkt is already up-to-date!\n",
      "[nltk_data] Downloading package stopwords to\n",
      "[nltk_data]     C:\\Users\\Ishraq\\AppData\\Roaming\\nltk_data...\n",
      "[nltk_data]   Package stopwords is already up-to-date!\n",
      "[nltk_data] Downloading package wordnet to\n",
      "[nltk_data]     C:\\Users\\Ishraq\\AppData\\Roaming\\nltk_data...\n",
      "[nltk_data]   Package wordnet is already up-to-date!\n"
     ]
    }
   ],
   "source": [
    "import re\n",
    "import nltk\n",
    "nltk.download('punkt')\n",
    "nltk.download('stopwords')\n",
    "nltk.download('wordnet')\n",
    "from nltk.corpus import stopwords\n",
    "from nltk.tokenize import word_tokenize\n",
    "from nltk.stem import WordNetLemmatizer"
   ]
  },
  {
   "cell_type": "code",
   "execution_count": 57,
   "id": "8d7f344e",
   "metadata": {},
   "outputs": [],
   "source": [
    "stop_words = stopwords.words('english')\n",
    "stop_words.remove('not')\n",
    "lemmatizer = WordNetLemmatizer()"
   ]
  },
  {
   "cell_type": "code",
   "execution_count": 58,
   "id": "a5804ae8",
   "metadata": {},
   "outputs": [],
   "source": [
    "def data_preprocessing(review):\n",
    "    \n",
    "    # data cleaning\n",
    "    review = re.sub(re.compile('<.*?>'), '', review) # remove html tags\n",
    "    review = re.sub('[^A-Za-z0-9]+', ' ', review) # taking only words\n",
    "    \n",
    "    # lowercase\n",
    "    review = review.lower()\n",
    "    \n",
    "    # tokenization\n",
    "    tokens = nltk.word_tokenize(review)\n",
    "    \n",
    "    # stop word removal\n",
    "    review = [word for word in tokens if word not in stop_words]\n",
    "    \n",
    "    # lemmatization\n",
    "    review = [lemmatizer.lemmatize(word) for word in review]\n",
    "    \n",
    "    # join words in preprocessed review\n",
    "    review = ' '.join(review)\n",
    "    \n",
    "    return review"
   ]
  },
  {
   "cell_type": "code",
   "execution_count": 59,
   "id": "2fc5046c",
   "metadata": {},
   "outputs": [
    {
     "name": "stderr",
     "output_type": "stream",
     "text": [
      "[nltk_data] Downloading package omw-1.4 to\n",
      "[nltk_data]     C:\\Users\\Ishraq\\AppData\\Roaming\\nltk_data...\n",
      "[nltk_data]   Package omw-1.4 is already up-to-date!\n"
     ]
    },
    {
     "data": {
      "text/plain": [
       "True"
      ]
     },
     "execution_count": 59,
     "metadata": {},
     "output_type": "execute_result"
    }
   ],
   "source": [
    "nltk.download('omw-1.4')"
   ]
  },
  {
   "cell_type": "code",
   "execution_count": 60,
   "id": "067d162a",
   "metadata": {},
   "outputs": [
    {
     "data": {
      "text/html": [
       "<div>\n",
       "<style scoped>\n",
       "    .dataframe tbody tr th:only-of-type {\n",
       "        vertical-align: middle;\n",
       "    }\n",
       "\n",
       "    .dataframe tbody tr th {\n",
       "        vertical-align: top;\n",
       "    }\n",
       "\n",
       "    .dataframe thead th {\n",
       "        text-align: right;\n",
       "    }\n",
       "</style>\n",
       "<table border=\"1\" class=\"dataframe\">\n",
       "  <thead>\n",
       "    <tr style=\"text-align: right;\">\n",
       "      <th></th>\n",
       "      <th>title</th>\n",
       "      <th>true</th>\n",
       "      <th>preprocessed_title</th>\n",
       "    </tr>\n",
       "  </thead>\n",
       "  <tbody>\n",
       "    <tr>\n",
       "      <th>0</th>\n",
       "      <td>Disneyland’s Pirates Of The Caribbean Ride Mak...</td>\n",
       "      <td>1</td>\n",
       "      <td>disneyland pirate caribbean ride make change c...</td>\n",
       "    </tr>\n",
       "    <tr>\n",
       "      <th>1</th>\n",
       "      <td>Miley Cyrus and Jimmy Fallon Go Undercover as ...</td>\n",
       "      <td>1</td>\n",
       "      <td>miley cyrus jimmy fallon go undercover subway ...</td>\n",
       "    </tr>\n",
       "    <tr>\n",
       "      <th>2</th>\n",
       "      <td>Channing Tatum Pens Powerful Letter for Daught...</td>\n",
       "      <td>1</td>\n",
       "      <td>channing tatum pen powerful letter daughter ev...</td>\n",
       "    </tr>\n",
       "    <tr>\n",
       "      <th>3</th>\n",
       "      <td>24 Investment Pieces For Fall 2018 That Our Ed...</td>\n",
       "      <td>1</td>\n",
       "      <td>24 investment piece fall 2018 editor eye</td>\n",
       "    </tr>\n",
       "    <tr>\n",
       "      <th>4</th>\n",
       "      <td>‘WAGS Miami’ Stars Ashley Nicole Roberts and P...</td>\n",
       "      <td>1</td>\n",
       "      <td>wag miami star ashley nicole robert philip whe...</td>\n",
       "    </tr>\n",
       "    <tr>\n",
       "      <th>...</th>\n",
       "      <td>...</td>\n",
       "      <td>...</td>\n",
       "      <td>...</td>\n",
       "    </tr>\n",
       "    <tr>\n",
       "      <th>18552</th>\n",
       "      <td>Quentin Tarantino Breaks Silence After Uma Thu...</td>\n",
       "      <td>1</td>\n",
       "      <td>quentin tarantino break silence uma thurman sh...</td>\n",
       "    </tr>\n",
       "    <tr>\n",
       "      <th>18553</th>\n",
       "      <td>Jesse Williams (actor)</td>\n",
       "      <td>1</td>\n",
       "      <td>jesse williams actor</td>\n",
       "    </tr>\n",
       "    <tr>\n",
       "      <th>18554</th>\n",
       "      <td>Richard Simmons ordered to pay $130,000 after ...</td>\n",
       "      <td>1</td>\n",
       "      <td>richard simmons ordered pay 130 000 transgende...</td>\n",
       "    </tr>\n",
       "    <tr>\n",
       "      <th>18555</th>\n",
       "      <td>WAGS' Dominique Penn Dives Into the Deep End D...</td>\n",
       "      <td>1</td>\n",
       "      <td>wag dominique penn dive deep end swim lesson d...</td>\n",
       "    </tr>\n",
       "    <tr>\n",
       "      <th>18556</th>\n",
       "      <td>Rachel Zoe's Style Guide for Bachelorette Becc...</td>\n",
       "      <td>1</td>\n",
       "      <td>rachel zoe style guide bachelorette becca kufr...</td>\n",
       "    </tr>\n",
       "  </tbody>\n",
       "</table>\n",
       "<p>18557 rows × 3 columns</p>\n",
       "</div>"
      ],
      "text/plain": [
       "                                                   title  true  \\\n",
       "0      Disneyland’s Pirates Of The Caribbean Ride Mak...     1   \n",
       "1      Miley Cyrus and Jimmy Fallon Go Undercover as ...     1   \n",
       "2      Channing Tatum Pens Powerful Letter for Daught...     1   \n",
       "3      24 Investment Pieces For Fall 2018 That Our Ed...     1   \n",
       "4      ‘WAGS Miami’ Stars Ashley Nicole Roberts and P...     1   \n",
       "...                                                  ...   ...   \n",
       "18552  Quentin Tarantino Breaks Silence After Uma Thu...     1   \n",
       "18553                             Jesse Williams (actor)     1   \n",
       "18554  Richard Simmons ordered to pay $130,000 after ...     1   \n",
       "18555  WAGS' Dominique Penn Dives Into the Deep End D...     1   \n",
       "18556  Rachel Zoe's Style Guide for Bachelorette Becc...     1   \n",
       "\n",
       "                                      preprocessed_title  \n",
       "0      disneyland pirate caribbean ride make change c...  \n",
       "1      miley cyrus jimmy fallon go undercover subway ...  \n",
       "2      channing tatum pen powerful letter daughter ev...  \n",
       "3               24 investment piece fall 2018 editor eye  \n",
       "4      wag miami star ashley nicole robert philip whe...  \n",
       "...                                                  ...  \n",
       "18552  quentin tarantino break silence uma thurman sh...  \n",
       "18553                               jesse williams actor  \n",
       "18554  richard simmons ordered pay 130 000 transgende...  \n",
       "18555  wag dominique penn dive deep end swim lesson d...  \n",
       "18556  rachel zoe style guide bachelorette becca kufr...  \n",
       "\n",
       "[18557 rows x 3 columns]"
      ]
     },
     "execution_count": 60,
     "metadata": {},
     "output_type": "execute_result"
    }
   ],
   "source": [
    "train_df['preprocessed_title'] = train_df['title'].apply(lambda review: data_preprocessing(review))\n",
    "train_df"
   ]
  },
  {
   "cell_type": "code",
   "execution_count": 61,
   "id": "58cbc572",
   "metadata": {},
   "outputs": [
    {
     "data": {
      "text/html": [
       "<div>\n",
       "<style scoped>\n",
       "    .dataframe tbody tr th:only-of-type {\n",
       "        vertical-align: middle;\n",
       "    }\n",
       "\n",
       "    .dataframe tbody tr th {\n",
       "        vertical-align: top;\n",
       "    }\n",
       "\n",
       "    .dataframe thead th {\n",
       "        text-align: right;\n",
       "    }\n",
       "</style>\n",
       "<table border=\"1\" class=\"dataframe\">\n",
       "  <thead>\n",
       "    <tr style=\"text-align: right;\">\n",
       "      <th></th>\n",
       "      <th>title</th>\n",
       "      <th>true</th>\n",
       "      <th>preprocessed_title</th>\n",
       "    </tr>\n",
       "  </thead>\n",
       "  <tbody>\n",
       "    <tr>\n",
       "      <th>0</th>\n",
       "      <td>See the Shocking Moment Rick Fox Finds Out Som...</td>\n",
       "      <td>1</td>\n",
       "      <td>see shocking moment rick fox find someone clos...</td>\n",
       "    </tr>\n",
       "    <tr>\n",
       "      <th>1</th>\n",
       "      <td>Here's how Jon Snow and Daenerys Targaryen are...</td>\n",
       "      <td>1</td>\n",
       "      <td>jon snow daenerys targaryen related game throne</td>\n",
       "    </tr>\n",
       "    <tr>\n",
       "      <th>2</th>\n",
       "      <td>I Tried Kim Kardashian's Butt Workout &amp; Am For...</td>\n",
       "      <td>1</td>\n",
       "      <td>tried kim kardashian butt workout forever changed</td>\n",
       "    </tr>\n",
       "    <tr>\n",
       "      <th>3</th>\n",
       "      <td>Taylor Swift and Joe Alwyn Are ‘’Exclusive’’ B...</td>\n",
       "      <td>1</td>\n",
       "      <td>taylor swift joe alwyn exclusive besties selen...</td>\n",
       "    </tr>\n",
       "    <tr>\n",
       "      <th>4</th>\n",
       "      <td>Bindi Irwin Does NOT Believe Chandler Powell I...</td>\n",
       "      <td>0</td>\n",
       "      <td>bindi irwin not believe chandler powell late d...</td>\n",
       "    </tr>\n",
       "    <tr>\n",
       "      <th>...</th>\n",
       "      <td>...</td>\n",
       "      <td>...</td>\n",
       "      <td>...</td>\n",
       "    </tr>\n",
       "    <tr>\n",
       "      <th>4634</th>\n",
       "      <td>Khloe Kardashian Did NOT Give Birth Over Easte...</td>\n",
       "      <td>0</td>\n",
       "      <td>khloe kardashian not give birth easter despite...</td>\n",
       "    </tr>\n",
       "    <tr>\n",
       "      <th>4635</th>\n",
       "      <td>Meghan Markle confirms her father will not att...</td>\n",
       "      <td>1</td>\n",
       "      <td>meghan markle confirms father not attend royal...</td>\n",
       "    </tr>\n",
       "    <tr>\n",
       "      <th>4636</th>\n",
       "      <td>Chad Michael Murray Shares First Image of Baby...</td>\n",
       "      <td>1</td>\n",
       "      <td>chad michael murray share first image baby dau...</td>\n",
       "    </tr>\n",
       "    <tr>\n",
       "      <th>4637</th>\n",
       "      <td>'Timeless' Star Matt Lanter and His Wife Are H...</td>\n",
       "      <td>1</td>\n",
       "      <td>timeless star matt lanter wife baby girl</td>\n",
       "    </tr>\n",
       "    <tr>\n",
       "      <th>4638</th>\n",
       "      <td>Fans are dragging Selena Gomez for supporting ...</td>\n",
       "      <td>1</td>\n",
       "      <td>fan dragging selena gomez supporting bullied b...</td>\n",
       "    </tr>\n",
       "  </tbody>\n",
       "</table>\n",
       "<p>4639 rows × 3 columns</p>\n",
       "</div>"
      ],
      "text/plain": [
       "                                                  title  true  \\\n",
       "0     See the Shocking Moment Rick Fox Finds Out Som...     1   \n",
       "1     Here's how Jon Snow and Daenerys Targaryen are...     1   \n",
       "2     I Tried Kim Kardashian's Butt Workout & Am For...     1   \n",
       "3     Taylor Swift and Joe Alwyn Are ‘’Exclusive’’ B...     1   \n",
       "4     Bindi Irwin Does NOT Believe Chandler Powell I...     0   \n",
       "...                                                 ...   ...   \n",
       "4634  Khloe Kardashian Did NOT Give Birth Over Easte...     0   \n",
       "4635  Meghan Markle confirms her father will not att...     1   \n",
       "4636  Chad Michael Murray Shares First Image of Baby...     1   \n",
       "4637  'Timeless' Star Matt Lanter and His Wife Are H...     1   \n",
       "4638  Fans are dragging Selena Gomez for supporting ...     1   \n",
       "\n",
       "                                     preprocessed_title  \n",
       "0     see shocking moment rick fox find someone clos...  \n",
       "1       jon snow daenerys targaryen related game throne  \n",
       "2     tried kim kardashian butt workout forever changed  \n",
       "3     taylor swift joe alwyn exclusive besties selen...  \n",
       "4     bindi irwin not believe chandler powell late d...  \n",
       "...                                                 ...  \n",
       "4634  khloe kardashian not give birth easter despite...  \n",
       "4635  meghan markle confirms father not attend royal...  \n",
       "4636  chad michael murray share first image baby dau...  \n",
       "4637           timeless star matt lanter wife baby girl  \n",
       "4638  fan dragging selena gomez supporting bullied b...  \n",
       "\n",
       "[4639 rows x 3 columns]"
      ]
     },
     "execution_count": 61,
     "metadata": {},
     "output_type": "execute_result"
    }
   ],
   "source": [
    "val_df['preprocessed_title'] = val_df['title'].apply(lambda review: data_preprocessing(review))\n",
    "val_df\n"
   ]
  },
  {
   "cell_type": "code",
   "execution_count": 62,
   "id": "c00338f7",
   "metadata": {},
   "outputs": [
    {
     "name": "stdout",
     "output_type": "stream",
     "text": [
      "FakeNewsNet length: 4639\n"
     ]
    }
   ],
   "source": [
    "print('FakeNewsNet length:', len(val_df))"
   ]
  },
  {
   "cell_type": "code",
   "execution_count": 63,
   "id": "65e1fd50",
   "metadata": {},
   "outputs": [
    {
     "name": "stdout",
     "output_type": "stream",
     "text": [
      "Train data: (18557,) (18557,)\n",
      "Test data: (4639,) (4639,)\n"
     ]
    }
   ],
   "source": [
    "X_train = train_df['preprocessed_title']\n",
    "X_val = val_df['preprocessed_title']\n",
    "\n",
    "y_train = train_df['true']\n",
    "y_val = val_df['true']\n",
    "\n",
    "print('Train data:', X_train.shape, y_train.shape)\n",
    "print('Test data:', X_val.shape, y_val.shape)"
   ]
  },
  {
   "cell_type": "code",
   "execution_count": 64,
   "id": "fe8ca382",
   "metadata": {},
   "outputs": [
    {
     "name": "stdout",
     "output_type": "stream",
     "text": [
      "X_train_new_tfidf shape: (18557, 2706)\n",
      "X_test_news_tfidf shape: (4639, 2706)\n"
     ]
    }
   ],
   "source": [
    "# vectorizing text data: TFIDF\n",
    "from sklearn.feature_extraction.text import TfidfVectorizer\n",
    "\n",
    "vectorizer = TfidfVectorizer(min_df=10)\n",
    "\n",
    "X_train_news_tfidf = vectorizer.fit_transform(X_train)\n",
    "X_val_news_tfidf = vectorizer.transform(X_val)\n",
    "\n",
    "print('X_train_new_tfidf shape:', X_train_news_tfidf.shape)\n",
    "print('X_test_news_tfidf shape:', X_val_news_tfidf.shape)"
   ]
  },
  {
   "cell_type": "code",
   "execution_count": 65,
   "id": "905ae8fa",
   "metadata": {},
   "outputs": [
    {
     "name": "stdout",
     "output_type": "stream",
     "text": [
      "Naive Bayes Classifier\n",
      "Accuracy: 0.8303513688294891\n",
      "Precision: 0.8377558756633814\n",
      "Recall: 0.958092485549133\n",
      "F1 score: 0.8938924093299178\n"
     ]
    }
   ],
   "source": [
    "from sklearn.naive_bayes import MultinomialNB\n",
    "from sklearn.metrics import accuracy_score, precision_score, recall_score, f1_score\n",
    "\n",
    "# Train the Naive Bayes classifier\n",
    "clf = MultinomialNB(alpha=1)\n",
    "clf.fit(X_train_news_tfidf, y_train)\n",
    "\n",
    "# Make predictions on the validation set\n",
    "y_pred = clf.predict(X_val_news_tfidf)\n",
    "\n",
    "# Calculate and print accuracy, precision, recall, and F1 score\n",
    "accuracy = accuracy_score(y_val, y_pred)\n",
    "precision = precision_score(y_val, y_pred)\n",
    "recall = recall_score(y_val, y_pred)\n",
    "f1 = f1_score(y_val, y_pred)\n",
    "\n",
    "print('Naive Bayes Classifier')\n",
    "print('Accuracy:', accuracy)\n",
    "print('Precision:', precision)\n",
    "print('Recall:', recall)\n",
    "print('F1 score:', f1)\n"
   ]
  },
  {
   "cell_type": "code",
   "execution_count": 66,
   "id": "34f2591e",
   "metadata": {},
   "outputs": [
    {
     "data": {
      "image/png": "[encoded data removed]",
      "text/plain": [
       "<Figure size 500x300 with 2 Axes>"
      ]
     },
     "metadata": {},
     "output_type": "display_data"
    }
   ],
   "source": [
    "from sklearn.metrics import confusion_matrix\n",
    "import seaborn as sns\n",
    "\n",
    "cm = confusion_matrix(y_val, y_pred)\n",
    "plt.figure(figsize=(5, 3))\n",
    "sns.heatmap(cm, annot=True, fmt='d')\n",
    "plt.title('Test Confusion Matrix')\n",
    "plt.show()"
   ]
  },
  {
   "cell_type": "code",
   "execution_count": 67,
   "id": "2922f335",
   "metadata": {},
   "outputs": [
    {
     "name": "stdout",
     "output_type": "stream",
     "text": [
      "Random Forest Classifier\n",
      "Accuracy: 0.8221599482647122\n",
      "Precision: 0.8464370234025769\n",
      "Recall: 0.9303468208092486\n",
      "F1 score: 0.8864105741429162\n"
     ]
    }
   ],
   "source": [
    "from sklearn.ensemble import RandomForestClassifier\n",
    "from sklearn.metrics import accuracy_score, precision_score, recall_score, f1_score\n",
    "\n",
    "\n",
    "# Train the Random Forest classifier\n",
    "clf = RandomForestClassifier()\n",
    "clf.fit(X_train_news_tfidf, y_train)\n",
    "\n",
    "# Make predictions on the validation set\n",
    "y_pred = clf.predict(X_val_news_tfidf)\n",
    "\n",
    "# Calculate and print accuracy, precision, recall, and F1 score\n",
    "accuracy = accuracy_score(y_val, y_pred)\n",
    "precision = precision_score(y_val, y_pred)\n",
    "recall = recall_score(y_val, y_pred)\n",
    "f1 = f1_score(y_val, y_pred)\n",
    "\n",
    "\n",
    "print('Random Forest Classifier')\n",
    "print('Accuracy:',accuracy)\n",
    "print('Precision:',precision)\n",
    "print('Recall:',recall)\n",
    "print('F1 score:',f1)\n"
   ]
  },
  {
   "cell_type": "code",
   "execution_count": 68,
   "id": "48856cec",
   "metadata": {},
   "outputs": [
    {
     "data": {
      "image/png": "[encoded data removed]",
      "text/plain": [
       "<Figure size 500x300 with 2 Axes>"
      ]
     },
     "metadata": {},
     "output_type": "display_data"
    }
   ],
   "source": [
    "cm = confusion_matrix(y_val, y_pred)\n",
    "plt.figure(figsize=(5, 3))\n",
    "sns.heatmap(cm, annot=True, fmt='d')\n",
    "plt.title('Test Confusion Matrix')\n",
    "plt.show()"
   ]
  },
  {
   "cell_type": "code",
   "execution_count": 69,
   "id": "1990d2e2",
   "metadata": {},
   "outputs": [
    {
     "name": "stdout",
     "output_type": "stream",
     "text": [
      "Logistic Regression Classifier\n",
      "Accuracy: 0.8353093339081699\n",
      "Precision: 0.8456410256410256\n",
      "Recall: 0.9531791907514451\n",
      "F1 score: 0.8961956521739131\n"
     ]
    }
   ],
   "source": [
    "from sklearn.linear_model import LogisticRegression\n",
    "from sklearn.metrics import accuracy_score, precision_score, recall_score, f1_score\n",
    "\n",
    "# Assuming X_train_news_tfidf, y_train, X_val_news_tfidf, y_val are defined\n",
    "\n",
    "# Initialize the Logistic Regression model\n",
    "logreg = LogisticRegression()\n",
    "\n",
    "# Train the model\n",
    "logreg.fit(X_train_news_tfidf, y_train)\n",
    "\n",
    "# Make predictions on the validation set\n",
    "y_pred = logreg.predict(X_val_news_tfidf)\n",
    "\n",
    "# Calculate and print accuracy, precision, recall, and F1 score\n",
    "accuracy = accuracy_score(y_val, y_pred)\n",
    "precision = precision_score(y_val, y_pred)\n",
    "recall = recall_score(y_val, y_pred)\n",
    "f1 = f1_score(y_val, y_pred)\n",
    "\n",
    "print('Logistic Regression Classifier')\n",
    "print('Accuracy:',accuracy)\n",
    "print('Precision:',precision)\n",
    "print('Recall:',recall)\n",
    "print('F1 score:',f1)"
   ]
  },
  {
   "cell_type": "code",
   "execution_count": 70,
   "id": "7c8cc65d",
   "metadata": {},
   "outputs": [
    {
     "data": {
      "image/png": "[encoded data removed]",
      "text/plain": [
       "<Figure size 500x300 with 2 Axes>"
      ]
     },
     "metadata": {},
     "output_type": "display_data"
    }
   ],
   "source": [
    "cm = confusion_matrix(y_val, y_pred)\n",
    "plt.figure(figsize=(5, 3))\n",
    "sns.heatmap(cm, annot=True, fmt='d')\n",
    "plt.title('Test Confusion Matrix')\n",
    "plt.show()"
   ]
  }
 ],
 "metadata": {
  "kernelspec": {
   "display_name": "Python 3 (ipykernel)",
   "language": "python",
   "name": "python3"
  },
  "language_info": {
   "codemirror_mode": {
    "name": "ipython",
    "version": 3
   },
   "file_extension": ".py",
   "mimetype": "text/x-python",
   "name": "python",
   "nbconvert_exporter": "python",
   "pygments_lexer": "ipython3",
   "version": "3.11.4"
  }
 },
 "nbformat": 4,
 "nbformat_minor": 5
}
